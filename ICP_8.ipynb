{
  "nbformat": 4,
  "nbformat_minor": 0,
  "metadata": {
    "colab": {
      "provenance": [],
      "authorship_tag": "ABX9TyMIZO0q9bWcn/XnedsA+S8B",
      "include_colab_link": true
    },
    "kernelspec": {
      "name": "python3",
      "display_name": "Python 3"
    },
    "language_info": {
      "name": "python"
    }
  },
  "cells": [
    {
      "cell_type": "markdown",
      "metadata": {
        "id": "view-in-github",
        "colab_type": "text"
      },
      "source": [
        "<a href=\"https://colab.research.google.com/github/OGPanther08/ICP-8/blob/main/ICP_8.ipynb\" target=\"_parent\"><img src=\"https://colab.research.google.com/assets/colab-badge.svg\" alt=\"Open In Colab\"/></a>"
      ]
    },
    {
      "cell_type": "code",
      "execution_count": null,
      "metadata": {
        "colab": {
          "base_uri": "https://localhost:8080/"
        },
        "id": "hKQq1QQp2LFk",
        "outputId": "90d3c81f-7029-4eaf-da9a-d930c8aa5098"
      },
      "outputs": [
        {
          "output_type": "stream",
          "name": "stdout",
          "text": [
            "Requirement already satisfied: pyspark in /usr/local/lib/python3.10/dist-packages (3.5.3)\n",
            "Requirement already satisfied: py4j==0.10.9.7 in /usr/local/lib/python3.10/dist-packages (from pyspark) (0.10.9.7)\n"
          ]
        }
      ],
      "source": [
        "!pip install pyspark"
      ]
    },
    {
      "cell_type": "code",
      "source": [
        "from pyspark import SparkContext, SparkConf"
      ],
      "metadata": {
        "id": "R6h0tbja2dJO"
      },
      "execution_count": null,
      "outputs": []
    },
    {
      "cell_type": "code",
      "source": [
        "#1. Produce RDD with List of first 15 natural numbers\n",
        "sc = SparkContext(\"local\", \"ICP_8\")\n",
        "\n",
        "numbers_rdd = sc.parallelize(range(1,16))"
      ],
      "metadata": {
        "id": "XUcZSFSM2e1V"
      },
      "execution_count": null,
      "outputs": []
    },
    {
      "cell_type": "code",
      "source": [
        "sc.stop()"
      ],
      "metadata": {
        "id": "TpWhohyLdfPG"
      },
      "execution_count": null,
      "outputs": []
    },
    {
      "cell_type": "code",
      "source": [
        "#2. show the elements and number of partitions in RDD\n",
        "print(\"Elements in RDD: \", numbers_rdd.collect())\n",
        "print(\"Number of partitions:\", numbers_rdd.getNumPartitions())"
      ],
      "metadata": {
        "colab": {
          "base_uri": "https://localhost:8080/"
        },
        "id": "sSogacWx3CzG",
        "outputId": "50792b1a-a1af-4d7c-f7ae-db37c0c6a124"
      },
      "execution_count": null,
      "outputs": [
        {
          "output_type": "stream",
          "name": "stdout",
          "text": [
            "Elements in RDD:  [1, 2, 3, 4, 5, 6, 7, 8, 9, 10, 11, 12, 13, 14, 15]\n",
            "Number of partitions: 1\n"
          ]
        }
      ]
    },
    {
      "cell_type": "code",
      "source": [
        "#3. returns the first element in the RDD.\n",
        "first = numbers_rdd.first()\n",
        "print(\"First element in RDD:\", first)"
      ],
      "metadata": {
        "colab": {
          "base_uri": "https://localhost:8080/"
        },
        "id": "bu3e8VhK3HqG",
        "outputId": "89a7bf22-a7e0-4d67-8637-84a9fc197b2d"
      },
      "execution_count": null,
      "outputs": [
        {
          "output_type": "stream",
          "name": "stdout",
          "text": [
            "First element in RDD: 1\n"
          ]
        }
      ]
    },
    {
      "cell_type": "code",
      "source": [
        "#4. Use filter transformation to create a new RDD by selecting elements that are even.\n",
        "even = numbers_rdd.filter(lambda x: x % 2 == 0)\n",
        "print(\"Even numbers in RDD:\", even.collect())"
      ],
      "metadata": {
        "colab": {
          "base_uri": "https://localhost:8080/"
        },
        "id": "mOCcPrZX3VCV",
        "outputId": "7b42b5f5-84ec-458d-bfd9-fede53ebac6e"
      },
      "execution_count": null,
      "outputs": [
        {
          "output_type": "stream",
          "name": "stdout",
          "text": [
            "Even numbers in RDD: [2, 4, 6, 8, 10, 12, 14]\n"
          ]
        }
      ]
    },
    {
      "cell_type": "code",
      "source": [
        "#5. Apply map transformation to each element in the RDD and returns a new RDD with square of each element as an output.\n",
        "squared = numbers_rdd.map(lambda x: x * x)\n",
        "print(\"Squared numbers in RDD:\", squared.collect())"
      ],
      "metadata": {
        "colab": {
          "base_uri": "https://localhost:8080/"
        },
        "id": "iMjQoU5U3Zl1",
        "outputId": "f6168d50-9498-4d43-96be-82b15c96f6ef"
      },
      "execution_count": null,
      "outputs": [
        {
          "output_type": "stream",
          "name": "stdout",
          "text": [
            "Squared numbers in RDD: [1, 4, 9, 16, 25, 36, 49, 64, 81, 100, 121, 144, 169, 196, 225]\n"
          ]
        }
      ]
    },
    {
      "cell_type": "code",
      "source": [
        "#6. aggregates all elements in the RDD using reduce action\n",
        "sum = numbers_rdd.reduce(lambda x, y: x + y)\n",
        "print(\"Sum of numbers in RDD:\", sum)"
      ],
      "metadata": {
        "colab": {
          "base_uri": "https://localhost:8080/"
        },
        "id": "Il8-o6XV3jIO",
        "outputId": "09a26e07-e220-461d-acc6-0efe5826fcee"
      },
      "execution_count": null,
      "outputs": [
        {
          "output_type": "stream",
          "name": "stdout",
          "text": [
            "Sum of numbers in RDD: 120\n"
          ]
        }
      ]
    },
    {
      "cell_type": "code",
      "source": [
        "#7. saves the RDD data as a text file\n",
        "squared.saveAsTextFile(\"squared_numbers1\")"
      ],
      "metadata": {
        "id": "LbwGzU1-3qV2"
      },
      "execution_count": null,
      "outputs": []
    },
    {
      "cell_type": "code",
      "source": [
        "#8. take two new list RDDs and Combine them with union transformation\n",
        "one = sc.parallelize([1,2,3,4,5])\n",
        "two = sc.parallelize([6,7,8,9,10])\n",
        "union = one.union(two)\n",
        "print(\"Union of RDDs:\", union.collect())"
      ],
      "metadata": {
        "colab": {
          "base_uri": "https://localhost:8080/"
        },
        "id": "fk3Q_7bA353W",
        "outputId": "4d22a42e-2daa-4a6b-a38c-af1582929e87"
      },
      "execution_count": null,
      "outputs": [
        {
          "output_type": "stream",
          "name": "stdout",
          "text": [
            "Union of RDDs: [1, 2, 3, 4, 5, 6, 7, 8, 9, 10]\n"
          ]
        }
      ]
    },
    {
      "cell_type": "code",
      "source": [
        "#9. Use cartesian transformation on defined list RDDs that returns a new list of ordered pairs.\n",
        "cartesian = one.cartesian(two)\n",
        "print(\"Cartesian product of RDDs:\", cartesian.collect())"
      ],
      "metadata": {
        "colab": {
          "base_uri": "https://localhost:8080/"
        },
        "id": "cJhCQga_4FJu",
        "outputId": "3fbadc06-397f-4ca0-ada3-a791102a71f7"
      },
      "execution_count": null,
      "outputs": [
        {
          "output_type": "stream",
          "name": "stdout",
          "text": [
            "Cartesian product of RDDs: [(1, 6), (1, 7), (1, 8), (1, 9), (1, 10), (2, 6), (2, 7), (2, 8), (2, 9), (2, 10), (3, 6), (3, 7), (3, 8), (3, 9), (3, 10), (4, 6), (4, 7), (4, 8), (4, 9), (4, 10), (5, 6), (5, 7), (5, 8), (5, 9), (5, 10)]\n"
          ]
        }
      ]
    },
    {
      "cell_type": "code",
      "source": [
        "#10.Create an RDD with Dictionary\n",
        "dictionary = sc.parallelize([{\"a\":1}, {\"b\":2}, {\"c\":3}, {\"d\":4}])\n",
        "print(\"Dictionary RDD:\", dictionary.collect())"
      ],
      "metadata": {
        "colab": {
          "base_uri": "https://localhost:8080/"
        },
        "id": "MQN5KT874IyO",
        "outputId": "ac8aea30-3fa3-4da6-c5f1-88808f156634"
      },
      "execution_count": null,
      "outputs": [
        {
          "output_type": "stream",
          "name": "stdout",
          "text": [
            "Dictionary RDD: [{'a': 1}, {'b': 2}, {'c': 3}, {'d': 4}]\n"
          ]
        }
      ]
    },
    {
      "cell_type": "code",
      "source": [
        "#11. Get unique value in the RDD as the key and its count as the value.\n",
        "values = sc.parallelize([\"a\",\"b\",\"c\",\"d\",\"e\",\"e\",\"a\",\"f\"])\n",
        "unique_values = values.map(lambda x: (x, 1)).reduceByKey(lambda x, y: x + y)\n",
        "print(\"Unique Values and their Counts\", unique_values.collect())"
      ],
      "metadata": {
        "colab": {
          "base_uri": "https://localhost:8080/"
        },
        "id": "qPMHKS6_5wd9",
        "outputId": "7281e0c7-7683-4749-9984-fa0bc6f15360"
      },
      "execution_count": null,
      "outputs": [
        {
          "output_type": "stream",
          "name": "stdout",
          "text": [
            "Unique Values and their Counts [('a', 2), ('b', 1), ('c', 1), ('d', 1), ('e', 2), ('f', 1)]\n"
          ]
        }
      ]
    },
    {
      "cell_type": "code",
      "source": [
        "#12.Create RDD by combining multiple .text files\n",
        "combined_text_files = sc.textFile(\"file1.txt,file2.txt\")\n",
        "print(\"Combined Text Files:\", combined_text_files.collect())\n"
      ],
      "metadata": {
        "colab": {
          "base_uri": "https://localhost:8080/"
        },
        "id": "6-GwuGmy7GAN",
        "outputId": "2d402501-6f11-4ab7-f5f4-1cc28bd38c2b"
      },
      "execution_count": null,
      "outputs": [
        {
          "output_type": "stream",
          "name": "stdout",
          "text": [
            "Combined Text Files: ['apple', 'banana', 'orange', 'apple', 'mango', 'banana', 'grape', 'apple', 'pineapple', 'orange']\n"
          ]
        }
      ]
    },
    {
      "cell_type": "code",
      "source": [
        "#13. Inspect the First 5 Lines of an RDD\n",
        "print(\"First 5 lines of combined RDD:\", union.take(5))"
      ],
      "metadata": {
        "colab": {
          "base_uri": "https://localhost:8080/"
        },
        "id": "Po-0_AuIF-DW",
        "outputId": "02165ad8-ae06-481f-c655-490b472c06d5"
      },
      "execution_count": null,
      "outputs": [
        {
          "output_type": "stream",
          "name": "stdout",
          "text": [
            "First 5 lines of combined RDD: [1, 2, 3, 4, 5]\n"
          ]
        }
      ]
    },
    {
      "cell_type": "code",
      "source": [
        "#14.Create Dataframe and Dataset\n",
        "from pyspark.sql import SparkSession\n",
        "spark = SparkSession.builder.appName(\"ICP_8\").getOrCreate()\n",
        "\n",
        "numbers = spark.createDataFrame(cartesian, [\"cartesian\"])\n",
        "numbers.show()"
      ],
      "metadata": {
        "colab": {
          "base_uri": "https://localhost:8080/"
        },
        "id": "fCnNe5bb9PwW",
        "outputId": "c150b343-991b-4187-faec-50a7cc0067ee"
      },
      "execution_count": null,
      "outputs": [
        {
          "output_type": "stream",
          "name": "stdout",
          "text": [
            "+---------+---+\n",
            "|cartesian| _2|\n",
            "+---------+---+\n",
            "|        1|  6|\n",
            "|        1|  7|\n",
            "|        1|  8|\n",
            "|        1|  9|\n",
            "|        1| 10|\n",
            "|        2|  6|\n",
            "|        2|  7|\n",
            "|        2|  8|\n",
            "|        2|  9|\n",
            "|        2| 10|\n",
            "|        3|  6|\n",
            "|        3|  7|\n",
            "|        3|  8|\n",
            "|        3|  9|\n",
            "|        3| 10|\n",
            "|        4|  6|\n",
            "|        4|  7|\n",
            "|        4|  8|\n",
            "|        4|  9|\n",
            "|        4| 10|\n",
            "+---------+---+\n",
            "only showing top 20 rows\n",
            "\n"
          ]
        }
      ]
    },
    {
      "cell_type": "markdown",
      "source": [
        "15. Show difference between RDD, Dataframe and Dataset using example\n",
        "\n",
        "\n",
        "RDD:\n",
        "Resilient Distributed Dataset, is fault tolerant, and distributed, there's no schema enforcement\n",
        "\n",
        "DataFrame:\n",
        "Dataset organized into named columns, suitable for structured data, and allows sql queries\n",
        "\n",
        "Dataset:\n",
        "structured, has a mix of rdd and dataframe features\n"
      ],
      "metadata": {
        "id": "AMFoCm22Eeuf"
      }
    },
    {
      "cell_type": "code",
      "source": [
        "#15. Show difference between RDD, Dataframe and Dataset using example\n",
        "#Example of this would be:\n",
        "print(\"RDD Elements:\", cartesian.collect())\n",
        "print(\"DataFrame Elements:\", numbers.show())"
      ],
      "metadata": {
        "colab": {
          "base_uri": "https://localhost:8080/"
        },
        "id": "1wxVrk8kEgfu",
        "outputId": "1a485e1c-03c3-432b-82ab-9b65b1ac8e8f"
      },
      "execution_count": null,
      "outputs": [
        {
          "output_type": "stream",
          "name": "stdout",
          "text": [
            "RDD Elements: [(1, 6), (1, 7), (1, 8), (1, 9), (1, 10), (2, 6), (2, 7), (2, 8), (2, 9), (2, 10), (3, 6), (3, 7), (3, 8), (3, 9), (3, 10), (4, 6), (4, 7), (4, 8), (4, 9), (4, 10), (5, 6), (5, 7), (5, 8), (5, 9), (5, 10)]\n",
            "+---------+---+\n",
            "|cartesian| _2|\n",
            "+---------+---+\n",
            "|        1|  6|\n",
            "|        1|  7|\n",
            "|        1|  8|\n",
            "|        1|  9|\n",
            "|        1| 10|\n",
            "|        2|  6|\n",
            "|        2|  7|\n",
            "|        2|  8|\n",
            "|        2|  9|\n",
            "|        2| 10|\n",
            "|        3|  6|\n",
            "|        3|  7|\n",
            "|        3|  8|\n",
            "|        3|  9|\n",
            "|        3| 10|\n",
            "|        4|  6|\n",
            "|        4|  7|\n",
            "|        4|  8|\n",
            "|        4|  9|\n",
            "|        4| 10|\n",
            "+---------+---+\n",
            "only showing top 20 rows\n",
            "\n",
            "DataFrame Elements: None\n"
          ]
        }
      ]
    }
  ]
}